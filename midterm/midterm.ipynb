{
 "cells": [
  {
   "cell_type": "markdown",
   "metadata": {
    "toc": true
   },
   "source": [
    "<h1>Table of Contents<span class=\"tocSkip\"></span></h1>\n",
    "<div class=\"toc\"><ul class=\"toc-item\"><li><span><a href=\"#Overview\" data-toc-modified-id=\"Overview-1\"><span class=\"toc-item-num\">1&nbsp;&nbsp;</span>Overview</a></span></li><li><span><a href=\"#Time-ans-Space-Complexity\" data-toc-modified-id=\"Time-ans-Space-Complexity-2\"><span class=\"toc-item-num\">2&nbsp;&nbsp;</span>Time ans Space Complexity</a></span><ul class=\"toc-item\"><li><span><a href=\"#Question-($\\star\\star$,-25-marks)\" data-toc-modified-id=\"Question-($\\star\\star$,-25-marks)-2.1\"><span class=\"toc-item-num\">2.1&nbsp;&nbsp;</span>Question ($\\star\\star$, 25 marks)</a></span></li></ul></li><li><span><a href=\"#Array\" data-toc-modified-id=\"Array-3\"><span class=\"toc-item-num\">3&nbsp;&nbsp;</span>Array</a></span><ul class=\"toc-item\"><li><span><a href=\"#Question-($\\star$,-25-marks)\" data-toc-modified-id=\"Question-($\\star$,-25-marks)-3.1\"><span class=\"toc-item-num\">3.1&nbsp;&nbsp;</span>Question ($\\star$, 25 marks)</a></span></li></ul></li><li><span><a href=\"#Stack\" data-toc-modified-id=\"Stack-4\"><span class=\"toc-item-num\">4&nbsp;&nbsp;</span>Stack</a></span><ul class=\"toc-item\"><li><span><a href=\"#Question-($\\star\\star$,-25-marks)\" data-toc-modified-id=\"Question-($\\star\\star$,-25-marks)-4.1\"><span class=\"toc-item-num\">4.1&nbsp;&nbsp;</span>Question ($\\star\\star$, 25 marks)</a></span></li><li><span><a href=\"#Question-($\\star\\star$,-25-marks)\" data-toc-modified-id=\"Question-($\\star\\star$,-25-marks)-4.2\"><span class=\"toc-item-num\">4.2&nbsp;&nbsp;</span>Question ($\\star\\star$, 25 marks)</a></span></li></ul></li></ul></div>"
   ]
  },
  {
   "cell_type": "markdown",
   "metadata": {
    "collapsed": true
   },
   "source": [
    "<b>\n",
    "\n",
    "<p>\n",
    "<center>\n",
    "<font size=\"5\">\n",
    "Algorithm Design for Data Science (DATS 6001)\n",
    "</font>\n",
    "</center>\n",
    "</p>\n",
    "\n",
    "<p>\n",
    "<center>\n",
    "<font size=\"4\">\n",
    "Midterm\n",
    "</font>\n",
    "</center>\n",
    "</p>\n",
    "\n",
    "<p>\n",
    "<center>\n",
    "<font size=\"3\">\n",
    "Data Science, Columbian College of Arts & Sciences, George Washington University\n",
    "</font>\n",
    "</center>\n",
    "</p>\n",
    "\n",
    "<p>\n",
    "<center>\n",
    "<font size=\"3\">\n",
    "Author: Yuxiao Huang\n",
    "</font>\n",
    "</center>\n",
    "</p>\n",
    "\n",
    "</b>"
   ]
  },
  {
   "cell_type": "markdown",
   "metadata": {},
   "source": [
    "# Overview\n",
    "- For each question, complete the logic and code indicated by # Implement me\n",
    "    - the logic should summarize the main idea of your algorithm\n",
    "    - the code should\n",
    "        - be bug-free (while the output produced by your solution being the same as the provided output does not necessarily mean your code is bug-free, it is very likely that there is a bug in your code when the two kinds of output are different)\n",
    "        - satisfy the required time and space complexity\n",
    "        - be commented\n",
    "    - **marks will be deducted if the above requirements (for the logic and code) are not met**\n",
    "    - **see the complete grading rubrics in section 13 of the syllabus**\n",
    "- Submit an ipynb file named midterm.ipynb to [blackboard](https://blackboard.gwu.edu) folder /Exams/Midterm/"
   ]
  },
  {
   "cell_type": "markdown",
   "metadata": {},
   "source": [
    "# Time ans Space Complexity"
   ]
  },
  {
   "cell_type": "markdown",
   "metadata": {},
   "source": [
    "## Question ($\\star\\star$, 25 marks)\n",
    "- Problem: \n",
    "    - follow up on question 2 in Homework_1\n",
    "    - find the number of ways to have $n$ (where $n \\geq 1$) 1 dollars in the jar\n",
    "    - unlike in Homework_1 where you can assume that each time you only put either one 1 dollar or two 1 dollars in the jar, here you can **also** assume that each time you can **also** put three 1 dollars in the jar\n",
    "    - for example, there are four ways to have three 1 dollars in the jar:\n",
    "        - put in one 1 dollar three times\n",
    "        - first put in one 1 dollar then two 1 dollars\n",
    "        - first put in two 1 dollars then one 1 dollar\n",
    "        - put in three 1 dollars altogether\n",
    "    - the solution should have the complexity below\n",
    "- Complexity: \n",
    "    - $O(n)$ time\n",
    "    - $O(1)$ space\n",
    "- **Logic: # Implement me (5 marks)**\n",
    "    "
   ]
  },
  {
   "cell_type": "code",
   "execution_count": 20,
   "metadata": {},
   "outputs": [],
   "source": [
    "# Implementation\n",
    "def fun_21(n):\n",
    "    \"\"\"\n",
    "    Find the number of ways to have n (where n >= 1) 1 dollars in the jar\n",
    "    You can assume each time you put either one 1 dollar, or two 1 dollars, or three 1 dollars in the jar\n",
    "    \n",
    "    Parameters\n",
    "    ----------\n",
    "    n : an integer >= 1\n",
    "    \n",
    "    Returns\n",
    "    ----------\n",
    "    the number of ways : an integer\n",
    "    \"\"\"\n",
    "    \n",
    "    # Implement me (20 marks)\n",
    "    # Considering only previous three ( i-3rd, 𝑖−2 th and  𝑖−1 th) number to calculate the current ( 𝑖 th) number.\n",
    "    a, b ,c = 0, 0, 1\n",
    "\n",
    "    # Loop over each range of elements\n",
    "    for i in range(1, n+1):\n",
    "    # using three variables to represent the three numbers.\n",
    "    # for each loop the variables gets updated\n",
    "        d = a + b + c\n",
    "        a = b\n",
    "        b = c\n",
    "        c = d\n",
    "\n",
    "    return d"
   ]
  },
  {
   "cell_type": "code",
   "execution_count": 21,
   "metadata": {
    "scrolled": true
   },
   "outputs": [
    {
     "name": "stdout",
     "output_type": "stream",
     "text": [
      "1 1\n",
      "2 2\n",
      "3 4\n",
      "4 7\n",
      "5 13\n",
      "6 24\n",
      "7 44\n",
      "8 81\n",
      "9 149\n",
      "10 274\n",
      "11 504\n",
      "12 927\n",
      "13 1705\n",
      "14 3136\n",
      "15 5768\n",
      "16 10609\n",
      "17 19513\n",
      "18 35890\n",
      "19 66012\n"
     ]
    }
   ],
   "source": [
    "# Test\n",
    "for i in range(1, 20):\n",
    "    print(i, fun_21(i))"
   ]
  },
  {
   "cell_type": "markdown",
   "metadata": {},
   "source": [
    "# Array"
   ]
  },
  {
   "cell_type": "markdown",
   "metadata": {},
   "source": [
    "## Question ($\\star$, 25 marks)\n",
    "- Problem: \n",
    "    - follow up on question 2.1 in Homework_2\n",
    "    - unlike in question 2.1 where you should find the first and second largest element in the array, here you should find the first and second smallest element in the array\n",
    "    - you may assume the array has at least two unique elements\n",
    "    - the solution has the complexity below\n",
    "- Complexity: \n",
    "    - $O(n)$ time\n",
    "    - $O(1)$ space\n",
    "- **Logic: # Implement me (5 marks)**\n"
   ]
  },
  {
   "cell_type": "code",
   "execution_count": 22,
   "metadata": {},
   "outputs": [],
   "source": [
    "# Implementation\n",
    "def fun_31(arr):\n",
    "    \"\"\"\n",
    "    Find the first and second smallest element in the array\n",
    "    You may assume the array has at least two unique elements\n",
    "    \n",
    "    Parameters\n",
    "    ----------\n",
    "    arr : a list of integers\n",
    "    \n",
    "    Returns\n",
    "    ----------\n",
    "    [the first smallest element, the second smallest element] : a list of two integers\n",
    "    \"\"\"\n",
    "    \n",
    "    # Implement me (20 marks)\n",
    "    first_min = arr[0]\n",
    "    sec_min = arr[1]\n",
    "    for i in range(1, len(arr)):\n",
    "        # If current element is smaller than first then \n",
    "        # update both first and second \n",
    "        if arr[i] < first_min:\n",
    "            sec_min = first_min\n",
    "            first_min = arr[i]\n",
    "            \n",
    "        # else if current element is smaller than second then \n",
    "        # update second \n",
    "        elif arr[i] < sec_min:\n",
    "            sec_min = arr[i]\n",
    "    return (first_min, sec_min)\n"
   ]
  },
  {
   "cell_type": "code",
   "execution_count": 23,
   "metadata": {},
   "outputs": [
    {
     "name": "stdout",
     "output_type": "stream",
     "text": [
      "(2, 3)\n",
      "(2, 3)\n",
      "(-4, 2)\n",
      "(-4, 2)\n"
     ]
    }
   ],
   "source": [
    "# Test\n",
    "arr_1 = [2, 3]\n",
    "arr_2 = [3, 2]\n",
    "arr_3 = [2, 3, 5, -4]\n",
    "arr_4 = [2, 3, 5, -4, 9, 10, 20, 11]\n",
    "\n",
    "print(fun_31(arr_1))\n",
    "print(fun_31(arr_2))\n",
    "print(fun_31(arr_3))\n",
    "print(fun_31(arr_4))"
   ]
  },
  {
   "cell_type": "markdown",
   "metadata": {},
   "source": [
    "# Stack"
   ]
  },
  {
   "cell_type": "markdown",
   "metadata": {
    "collapsed": true
   },
   "source": [
    "<a id='4.1'></a>"
   ]
  },
  {
   "cell_type": "markdown",
   "metadata": {},
   "source": [
    "## Question ($\\star\\star$, 25 marks)\n",
    "- Problem:\n",
    "    - follow up on example 4.3 in Chapter 2 of lecture note\n",
    "    - unlike in example 4.3 where you should check whether the parentheses in the input string are valid, here you should find the minimum number of parentheses that should be added to make the input string valid\n",
    "    - for example:\n",
    "        - if s = \"()\", then the solution should return 0, since no parenthesis needs to be added to make s valid\n",
    "        - if s = \"(\", then the solution should return 1, since one parenthesis (a right one) needs to be added to make s valid (s = \"()\")\n",
    "        - if s = \")(\", then the solution should return 2, since two parentheses (a left and a right) need to be added to make s valid (s = \"()()\")\n",
    "        - see more examples in the test cases\n",
    "    - the parentheses are valid if they are always in pairs and in correct order \n",
    "    - you may assume the string only includes '(' and ')'\n",
    "    - find the solution with the complexity below\n",
    "    - this question will be followed by\n",
    "        - [question 4.2](#4.2)\n",
    "- Complexity: \n",
    "    - $O(n)$ time\n",
    "    - $O(n)$ space\n",
    "- **Logic: # Implement me (5 marks)**\n"
   ]
  },
  {
   "cell_type": "code",
   "execution_count": 24,
   "metadata": {},
   "outputs": [],
   "source": [
    "def fun_41(s):\n",
    "    \"\"\"\n",
    "    Find the minimum number of parentheses that should be added to make the input string valid\n",
    "    The parentheses are valid if they are always in pairs and in correct order \n",
    "    You may assume the string only includes '(' and ')'\n",
    "    \n",
    "    Parameters\n",
    "    ----------\n",
    "    s : a string\n",
    "    \n",
    "    Returns\n",
    "    ----------\n",
    "    the minimum number of parentheses that should be added : an integer\n",
    "    \"\"\"\n",
    "\n",
    "    # Implement me (20 marks)\n",
    "    stack = []\n",
    "    # Initalize number to zero\n",
    "    number = 0\n",
    "    for c in s:\n",
    "        if c == ')':\n",
    "            # If the parentheses are not in pairs or in correct order\n",
    "            if (len(stack) == 0) or ('(' != stack.pop()):\n",
    "                # increment number by 1\n",
    "                number += 1\n",
    "                # decrement bumber by 1\n",
    "            else:\n",
    "                number -= 1\n",
    "        else:\n",
    "            # Push '('\n",
    "            stack.append(c)\n",
    "            # increment number by 1\n",
    "            number += 1\n",
    "            \n",
    "    return number\n"
   ]
  },
  {
   "cell_type": "code",
   "execution_count": 25,
   "metadata": {
    "scrolled": true
   },
   "outputs": [
    {
     "name": "stdout",
     "output_type": "stream",
     "text": [
      "0\n",
      "1\n",
      "1\n",
      "2\n",
      "0\n",
      "4\n"
     ]
    }
   ],
   "source": [
    "# Test\n",
    "s_1 = \"()\"\n",
    "s_2 = \"(\"\n",
    "s_3 = \")\"\n",
    "s_4 = \")(\"\n",
    "s_5 = \"()()\"\n",
    "s_6 = \"))((\"\n",
    "\n",
    "print(fun_41(s_1))\n",
    "print(fun_41(s_2))\n",
    "print(fun_41(s_3))\n",
    "print(fun_41(s_4))\n",
    "print(fun_41(s_5))\n",
    "print(fun_41(s_6))"
   ]
  },
  {
   "cell_type": "markdown",
   "metadata": {
    "collapsed": true
   },
   "source": [
    "<a id='4.2'></a>"
   ]
  },
  {
   "cell_type": "markdown",
   "metadata": {},
   "source": [
    "## Question ($\\star\\star$, 25 marks)\n",
    "- Problem:\n",
    "    - follow up on [question 4.1](#4.1) (and exercise 4.4 in Chapter 2 of lecture note)\n",
    "    - find an improved solution with the complexity below\n",
    "- Complexity: \n",
    "    - $O(n)$ time\n",
    "    - $O(1)$ space\n",
    "- **Logic: # Implement me (5 marks)**\n"
   ]
  },
  {
   "cell_type": "code",
   "execution_count": 26,
   "metadata": {},
   "outputs": [],
   "source": [
    "def fun_42(s):\n",
    "    \"\"\"\n",
    "    Find the minimum number of parentheses that should be added to make the input string valid\n",
    "    The parentheses are valid if they are always in pairs and in correct order \n",
    "    You may assume the string only includes '(' and ')'\n",
    "    \n",
    "    Parameters\n",
    "    ----------\n",
    "    s : a string\n",
    "    \n",
    "    Returns\n",
    "    ----------\n",
    "    the minimum number of parentheses that should be added : an integer\n",
    "    \"\"\"\n",
    "\n",
    "    # Implement me (20 marks)\n",
    "    count = 0\n",
    "    \n",
    "    # initalize prev\n",
    "    prev = s[0]\n",
    "\n",
    "    for c in s:\n",
    "        if c == ')' and prev == '(':\n",
    "            count -= 1\n",
    "        else:\n",
    "            count += 1\n",
    "        # If the parentheses are in pairs, return c ;\n",
    "        prev = c\n",
    "\n",
    "    return count"
   ]
  },
  {
   "cell_type": "code",
   "execution_count": 27,
   "metadata": {
    "scrolled": true
   },
   "outputs": [
    {
     "name": "stdout",
     "output_type": "stream",
     "text": [
      "0\n",
      "1\n",
      "1\n",
      "2\n",
      "0\n",
      "4\n"
     ]
    }
   ],
   "source": [
    "# Test\n",
    "s_1 = \"()\"\n",
    "s_2 = \"(\"\n",
    "s_3 = \")\"\n",
    "s_4 = \")(\"\n",
    "s_5 = \"()()\"\n",
    "s_6 = \"))((\"\n",
    "\n",
    "print(fun_42(s_1))\n",
    "print(fun_42(s_2))\n",
    "print(fun_42(s_3))\n",
    "print(fun_42(s_4))\n",
    "print(fun_42(s_5))\n",
    "print(fun_42(s_6))"
   ]
  },
  {
   "cell_type": "code",
   "execution_count": null,
   "metadata": {},
   "outputs": [],
   "source": []
  }
 ],
 "metadata": {
  "kernelspec": {
   "display_name": "Python 3",
   "language": "python",
   "name": "python3"
  },
  "language_info": {
   "codemirror_mode": {
    "name": "ipython",
    "version": 3
   },
   "file_extension": ".py",
   "mimetype": "text/x-python",
   "name": "python",
   "nbconvert_exporter": "python",
   "pygments_lexer": "ipython3",
   "version": "3.7.4"
  },
  "toc": {
   "base_numbering": 1,
   "nav_menu": {},
   "number_sections": true,
   "sideBar": true,
   "skip_h1_title": false,
   "title_cell": "Table of Contents",
   "title_sidebar": "Contents",
   "toc_cell": true,
   "toc_position": {},
   "toc_section_display": true,
   "toc_window_display": false
  }
 },
 "nbformat": 4,
 "nbformat_minor": 2
}
