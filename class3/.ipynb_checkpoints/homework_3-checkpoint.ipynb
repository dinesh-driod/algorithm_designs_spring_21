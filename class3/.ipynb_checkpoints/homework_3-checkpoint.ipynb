{
 "cells": [
  {
   "cell_type": "markdown",
   "metadata": {
    "toc": true
   },
   "source": [
    "<h1>Table of Contents<span class=\"tocSkip\"></span></h1>\n",
    "<div class=\"toc\"><ul class=\"toc-item\"><li><span><a href=\"#Overview\" data-toc-modified-id=\"Overview-1\"><span class=\"toc-item-num\">1&nbsp;&nbsp;</span>Overview</a></span></li><li><span><a href=\"#Stack-(20-marks)\" data-toc-modified-id=\"Stack-(20-marks)-2\"><span class=\"toc-item-num\">2&nbsp;&nbsp;</span>Stack (20 marks)</a></span><ul class=\"toc-item\"><li><span><a href=\"#Question-($\\star\\star$,-20-marks)\" data-toc-modified-id=\"Question-($\\star\\star$,-20-marks)-2.1\"><span class=\"toc-item-num\">2.1&nbsp;&nbsp;</span>Question ($\\star\\star$, 20 marks)</a></span></li></ul></li><li><span><a href=\"#Array-(30-marks)\" data-toc-modified-id=\"Array-(30-marks)-3\"><span class=\"toc-item-num\">3&nbsp;&nbsp;</span>Array (30 marks)</a></span><ul class=\"toc-item\"><li><span><a href=\"#Question-($\\star\\star\\star$,-30-marks)\" data-toc-modified-id=\"Question-($\\star\\star\\star$,-30-marks)-3.1\"><span class=\"toc-item-num\">3.1&nbsp;&nbsp;</span>Question ($\\star\\star\\star$, 30 marks)</a></span></li></ul></li><li><span><a href=\"#Binary-Search-(50-marks)\" data-toc-modified-id=\"Binary-Search-(50-marks)-4\"><span class=\"toc-item-num\">4&nbsp;&nbsp;</span>Binary Search (50 marks)</a></span><ul class=\"toc-item\"><li><span><a href=\"#Question-($\\star$,-10-marks)\" data-toc-modified-id=\"Question-($\\star$,-10-marks)-4.1\"><span class=\"toc-item-num\">4.1&nbsp;&nbsp;</span>Question ($\\star$, 10 marks)</a></span></li><li><span><a href=\"#Question-($\\star\\star$,-40-marks)\" data-toc-modified-id=\"Question-($\\star\\star$,-40-marks)-4.2\"><span class=\"toc-item-num\">4.2&nbsp;&nbsp;</span>Question ($\\star\\star$, 40 marks)</a></span></li></ul></li></ul></div>"
   ]
  },
  {
   "cell_type": "markdown",
   "metadata": {
    "collapsed": true
   },
   "source": [
    "<b>\n",
    "\n",
    "<p>\n",
    "<center>\n",
    "<font size=\"5\">\n",
    "Homework for Algorithm Design for Data Science (DATS 6001)\n",
    "</font>\n",
    "</center>\n",
    "</p>\n",
    "\n",
    "<p>\n",
    "<center>\n",
    "<font size=\"4\">\n",
    "Homework 3: Stack, Array and Binary Search\n",
    "</font>\n",
    "</center>\n",
    "</p>\n",
    "\n",
    "<p>\n",
    "<center>\n",
    "<font size=\"3\">\n",
    "Data Science, Columbian College of Arts & Sciences, George Washington University\n",
    "</font>\n",
    "</center>\n",
    "</p>\n",
    "\n",
    "<p>\n",
    "<center>\n",
    "<font size=\"3\">\n",
    "Author: Yuxiao Huang\n",
    "</font>\n",
    "</center>\n",
    "</p>\n",
    "\n",
    "</b>"
   ]
  },
  {
   "cell_type": "markdown",
   "metadata": {},
   "source": [
    "# Overview\n",
    "- For each question, complete the logic and code indicated by # Implement me\n",
    "    - the logic should summarize the main idea of your algorithm\n",
    "    - the code should\n",
    "        - be bug-free (while the output produced by your solution being the same as the provided output does not necessarily mean your code is bug-free, it is very likely that there is a bug in your code when the two kinds of output are different)\n",
    "        - satisfy the required time and space complexity\n",
    "        - be commented\n",
    "    - **marks will be deducted if the above requirements (for the logic and code) are not met**\n",
    "    - **see the complete grading rubrics in section 13 of the syllabus**\n",
    "- Submit an ipynb file named Homework_3.ipynb to [blackboard](https://blackboard.gwu.edu) folder /Assignments/Homework_3/"
   ]
  },
  {
   "cell_type": "markdown",
   "metadata": {},
   "source": [
    "# Stack (20 marks)"
   ]
  },
  {
   "cell_type": "markdown",
   "metadata": {
    "collapsed": true
   },
   "source": [
    "<a id='2.1'></a>"
   ]
  },
  {
   "cell_type": "markdown",
   "metadata": {},
   "source": [
    "## Question ($\\star\\star$, 20 marks)\n",
    "- Problem: \n",
    "    - find whether two lists of integers, list1 and list2, are equal\n",
    "    - here list2 only has nonnegative integers whereas list1 may also have negative integers\n",
    "    - particularly\n",
    "        - the negative number, say -n, in list1 means that this negative number and the n nonnegative numbers prior to it should be (hypothetically) removed from list1 during the comparison\n",
    "        - for example, if list1 = [2, 3, -1] and list2 = [2], the function should return True because based on the discussion above, in essence list1 = [2] (since 3 and -1 should be hypothetically removed from list1)\n",
    "        - another example, if list1 = [2, 3, 4, -1, 5, -2] and list2 = [2], the function still should return True, because in essence list1 = [2] (since 5 and 4 should be hypothetically removed due to -2, and 3 should be hypothetically removed due to -1)\n",
    "        - it is worth noting that, the function should return False if for negative number, say -n, there are fewer than n nonnegative numbers prior to it in list1\n",
    "        - for example, if list1 = [-1], the function should return False no matter what list2 is\n",
    "        - see the test cases for more examples\n",
    "    - find a solution with the complexity below\n",
    "- Complexity: \n",
    "    - $O(n)$ time\n",
    "    - $O(n)$ space\n",
    "- **Logic: # Implement me (5 marks)**\n"
   ]
  },
  {
   "cell_type": "code",
   "execution_count": 14,
   "metadata": {},
   "outputs": [],
   "source": [
    "# Implementation\n",
    "def fun_21(list1, list2):\n",
    "    \"\"\"\n",
    "    Find whether two lists of integers, list1 and list2, are equal\n",
    "    \n",
    "    Parameters\n",
    "    ----------\n",
    "    list1 : one list of integers\n",
    "    list2 : another list of integers\n",
    "    \n",
    "    Returns\n",
    "    ----------\n",
    "    True, if the two lists are equal\n",
    "    False, otherwise\n",
    "    \"\"\"\n",
    "    \n",
    "    # Implement me (15 marks)\n",
    "    \n",
    "    # gets the length of list2\n",
    "    list2Count = len(list2)\n",
    "    # performs loop until the last but one\n",
    "    while len(list1) - 1 > 0:\n",
    "        #pop the last value\n",
    "        lastValue = list1.pop()\n",
    "         when its non negative value\n",
    "        if lastValue >= 0:\n",
    "            #push the last value\n",
    "            list2.append(lastValue)\n",
    "        else:\n",
    "            # calls another function\n",
    "            removeNonNegative(list1, lastValue)\n",
    "    \n",
    "    for i in range(len(list2)-list2Count):\n",
    "        # push the value from list2\n",
    "        list1.append(list2.pop())\n",
    "    # compares list1 and list2    \n",
    "    if list1 == list2:\n",
    "        return True\n",
    "    return False\n",
    "\n",
    "# function to remove nonnegative value\n",
    "def removeNonNegative(list1, lastValue):\n",
    "    # assigning value to absolute value\n",
    "    value = abs(lastValue)\n",
    "    # initalizes i to 0\n",
    "    i = 0\n",
    "    while len(list1) >= value > i:\n",
    "        # pushes the next value\n",
    "        nextValue = list1.pop()\n",
    "        # checks when the value is negative\n",
    "        if nextValue < 0:\n",
    "            removeNonNegative(list1, nextValue)\n",
    "        else:\n",
    "            i = i + 1\n",
    "\n",
    "    "
   ]
  },
  {
   "cell_type": "code",
   "execution_count": 15,
   "metadata": {
    "scrolled": true
   },
   "outputs": [
    {
     "name": "stdout",
     "output_type": "stream",
     "text": [
      "True\n",
      "True\n",
      "True\n",
      "False\n",
      "False\n",
      "True\n",
      "False\n"
     ]
    }
   ],
   "source": [
    "# Test\n",
    "print(fun_21([], []))\n",
    "print(fun_21([2, 3, -1], [2]))\n",
    "print(fun_21([2, 3, 4, -1, 5, -2], [2]))\n",
    "print(fun_21([-1], []))\n",
    "print(fun_21([1, 2, 3, 4, -2, 5, 6, -1], [2, 5]))\n",
    "print(fun_21([1, -1, 1], [1]))\n",
    "print(fun_21([2, 3, -100], [2]))"
   ]
  },
  {
   "cell_type": "markdown",
   "metadata": {},
   "source": [
    "# Array (30 marks)"
   ]
  },
  {
   "cell_type": "markdown",
   "metadata": {},
   "source": [
    "## Question ($\\star\\star\\star$, 30 marks)\n",
    "- Problem: \n",
    "    - follow up on [Question 2.1](#2.1)\n",
    "    - find a solution with the complexity below\n",
    "    - it is worth noting that, you cannot change list1 or list2 in any way (e.g., pop or append) in the function, otherwise marks will be deducted\n",
    "- Complexity: \n",
    "    - $O(n)$ time\n",
    "    - $O(1)$ space\n",
    "- **Logic: # Implement me (5 marks)**\n"
   ]
  },
  {
   "cell_type": "code",
   "execution_count": 16,
   "metadata": {},
   "outputs": [],
   "source": [
    "# Implementation\n",
    "def fun_31(list1, list2):\n",
    "    \"\"\"\n",
    "    Find whether two lists of integers, list1 and list2, are equal\n",
    "    \n",
    "    Parameters\n",
    "    ----------\n",
    "    list1 : one list of integers\n",
    "    list2 : another list of integers\n",
    "    \n",
    "    Returns\n",
    "    ----------\n",
    "    True, if the two lists are equal\n",
    "    False, otherwise\n",
    "    \"\"\"\n",
    "    \n",
    "    # Implement me (25 marks)\n",
    "    \n",
    "    indexList2 = len(list2) - 1\n",
    "    # initalizing k to be length of list1\n",
    "    k = len(list1) - 1\n",
    "    # perform loop until k is non negative\n",
    "    while k >= 0:\n",
    "        if list1[k] >= 0:\n",
    "            # return false when the index is not equal to list2\n",
    "            if indexList2 < 0 and list1[k] != list2[indexList2]:\n",
    "                return False\n",
    "            indexList2 = indexList2 - 1\n",
    "        else:\n",
    "            # return the absolute value\n",
    "            value = abs(list1[k])\n",
    "            # initalize i to 0\n",
    "            i = 0\n",
    "            # loop until value is greater than i\n",
    "            while len(list1) > value > i:\n",
    "                nextValue = list1[k-1 - i]\n",
    "                if nextValue < 0:\n",
    "                    value = value + abs(nextValue) + 1\n",
    "                i = i + 1\n",
    "            # return false when the value is not i   \n",
    "            if i != value:\n",
    "                return False\n",
    "            k = k - i\n",
    "        k = k - 1\n",
    "    return indexList2 == -1\n"
   ]
  },
  {
   "cell_type": "code",
   "execution_count": 17,
   "metadata": {
    "scrolled": true
   },
   "outputs": [
    {
     "name": "stdout",
     "output_type": "stream",
     "text": [
      "True\n",
      "True\n",
      "True\n",
      "False\n",
      "False\n",
      "True\n",
      "False\n"
     ]
    }
   ],
   "source": [
    "# Test\n",
    "print(fun_31([], []))\n",
    "print(fun_31([2, 3, -1], [2]))\n",
    "print(fun_31([2, 3, 4, -1, 5, -2], [2]))\n",
    "print(fun_31([-1], []))\n",
    "print(fun_31([1, 2, 3, 4, -2, 5, 6, -1], [2, 5]))\n",
    "print(fun_31([1, -1, 1], [1]))\n",
    "print(fun_31([2, 3, -100], [2]))"
   ]
  },
  {
   "cell_type": "markdown",
   "metadata": {},
   "source": [
    "# Binary Search (50 marks)\n",
    "This section includes two questions."
   ]
  },
  {
   "cell_type": "markdown",
   "metadata": {
    "collapsed": true
   },
   "source": [
    "<a id='4.1'></a>"
   ]
  },
  {
   "cell_type": "markdown",
   "metadata": {},
   "source": [
    "## Question ($\\star$, 10 marks)\n",
    "- Problem:\n",
    "    - follow up on exercise 3.6 in chapter 3 of lecture note\n",
    "    - as in exercise 3.6, if the target is not in the array, we return the index where we should insert the target to keep the array sorted\n",
    "    - however, unlike in exercise 3.6 where we return the index of any item in the array as long as the item equals the target, here we should return the index of the first item in the array that equals the target\n",
    "    - for example, if arr = [2, 3, 3, 4] and target = 3, we should return 1 (the index of the first 3 in arr) rather than 2 (the index of the second 3)\n",
    "    - see more examples in the testing cases\n",
    "    - find the solution with the complexity below\n",
    "- Complexity:\n",
    "    - $O(n)$ time\n",
    "    - $O(1)$ space\n",
    "- **Logic: # Implement me (5 marks)**\n"
   ]
  },
  {
   "cell_type": "code",
   "execution_count": 18,
   "metadata": {},
   "outputs": [],
   "source": [
    "# Implementation\n",
    "def fun_41(arr, target):\n",
    "    \"\"\"\n",
    "    Find a target in a sortetd array (in ascending order)\n",
    "    \n",
    "    Parameters\n",
    "    ----------\n",
    "    arr : a list of integers\n",
    "    target : an integer\n",
    "    \n",
    "    Returns\n",
    "    ----------\n",
    "    The index of the first item in arr that equals the target, if the target is in the array\n",
    "    The index where the target should be inserted (so that the array is still sorted in ascending order), otherwise\n",
    "    \"\"\"\n",
    "    \n",
    "    # Implement me (5 marks)\n",
    "    index = 0\n",
    "    # for each number until the length of the array\n",
    "    for i in range(len(arr)):\n",
    "        # return index\n",
    "        if arr[i] == target:\n",
    "            index = i\n",
    "            break\n",
    "        # return index when i is greater   \n",
    "        elif arr[i] > target:\n",
    "            index = i\n",
    "            break\n",
    "        # increment i    \n",
    "        else:\n",
    "            index = i + 1\n",
    "\n",
    "    return index\n"
   ]
  },
  {
   "cell_type": "code",
   "execution_count": 19,
   "metadata": {
    "scrolled": true
   },
   "outputs": [
    {
     "name": "stdout",
     "output_type": "stream",
     "text": [
      "1\n",
      "0\n",
      "1\n",
      "1\n",
      "2\n",
      "0\n"
     ]
    }
   ],
   "source": [
    "# Test\n",
    "arr_1 = [2]\n",
    "arr_2 = [4]\n",
    "arr_3 = [2, 3, 4]\n",
    "arr_4 = [2, 3, 3, 4]\n",
    "arr_5 = [2, 2, 3, 3, 3, 4, 4]\n",
    "arr_6 = [3, 3]\n",
    "\n",
    "\n",
    "print(fun_41(arr_1, 3))\n",
    "print(fun_41(arr_2, 3))\n",
    "print(fun_41(arr_3, 3))\n",
    "print(fun_41(arr_4, 3))\n",
    "print(fun_41(arr_5, 3))\n",
    "print(fun_41(arr_6, 3))"
   ]
  },
  {
   "cell_type": "markdown",
   "metadata": {},
   "source": [
    "## Question ($\\star\\star$, 40 marks)\n",
    "- Problem: \n",
    "    - follow up on [Question 4.1](#4.1)\n",
    "    - find a solution with the complexity below\n",
    "- Complexity: \n",
    "    - $O(log(n))$ time\n",
    "    - $O(1)$ space\n",
    "- **Logic: # Implement me (5 marks)**\n"
   ]
  },
  {
   "cell_type": "code",
   "execution_count": 20,
   "metadata": {},
   "outputs": [],
   "source": [
    "# Implementation\n",
    "def fun_42(arr, target):\n",
    "    \"\"\"\n",
    "    Find a target in a sortetd array (in ascending order)\n",
    "    \n",
    "    Parameters\n",
    "    ----------\n",
    "    arr : a list of integers\n",
    "    target : an integer\n",
    "    \n",
    "    Returns\n",
    "    ----------\n",
    "    The index of the first item in arr that equals the target, if the target is in the array\n",
    "    The index where the target should be inserted (so that the array is still sorted in ascending order), otherwise\n",
    "    \"\"\"\n",
    "    \n",
    "    # Implement me (35 marks)\n",
    "    # The starting and ending point of the input array\n",
    "    left = 0\n",
    "    right = len(arr) - 1\n",
    "\n",
    "    # While the subarray is not empty\n",
    "    while (left <= right):\n",
    "        # Get the index of the middle item in the subarray\n",
    "        mid = left + (right - left) // 2\n",
    "\n",
    "        # If the middle item equals the target\n",
    "        if arr[mid] == target:\n",
    "            if mid > 1 and arr[mid - 1] == target:\n",
    "                right = mid + 1\n",
    "            else:\n",
    "                return mid\n",
    "        # If the middle item is larger than the target\n",
    "        elif arr[mid] > target:\n",
    "            right = mid - 1\n",
    "        # If the middle item is smaller than the target\n",
    "        else:\n",
    "            left = mid + 1\n",
    "\n",
    "    return left\n"
   ]
  },
  {
   "cell_type": "code",
   "execution_count": 10,
   "metadata": {
    "scrolled": false
   },
   "outputs": [
    {
     "name": "stdout",
     "output_type": "stream",
     "text": [
      "1\n",
      "0\n",
      "1\n",
      "1\n",
      "2\n",
      "0\n"
     ]
    }
   ],
   "source": [
    "# Test\n",
    "arr_1 = [2]\n",
    "arr_2 = [4]\n",
    "arr_3 = [2, 3, 4]\n",
    "arr_4 = [2, 3, 3, 4]\n",
    "arr_5 = [2, 2, 3, 3, 3, 4, 4]\n",
    "arr_6 = [3, 3]\n",
    "\n",
    "\n",
    "print(fun_42(arr_1, 3))\n",
    "print(fun_42(arr_2, 3))\n",
    "print(fun_42(arr_3, 3))\n",
    "print(fun_42(arr_4, 3))\n",
    "print(fun_42(arr_5, 3))\n",
    "print(fun_42(arr_6, 3))"
   ]
  },
  {
   "cell_type": "code",
   "execution_count": null,
   "metadata": {},
   "outputs": [],
   "source": []
  }
 ],
 "metadata": {
  "kernelspec": {
   "display_name": "Python 3",
   "language": "python",
   "name": "python3"
  },
  "language_info": {
   "codemirror_mode": {
    "name": "ipython",
    "version": 3
   },
   "file_extension": ".py",
   "mimetype": "text/x-python",
   "name": "python",
   "nbconvert_exporter": "python",
   "pygments_lexer": "ipython3",
   "version": "3.7.4"
  },
  "toc": {
   "base_numbering": 1,
   "nav_menu": {},
   "number_sections": true,
   "sideBar": true,
   "skip_h1_title": false,
   "title_cell": "Table of Contents",
   "title_sidebar": "Contents",
   "toc_cell": true,
   "toc_position": {},
   "toc_section_display": true,
   "toc_window_display": false
  }
 },
 "nbformat": 4,
 "nbformat_minor": 2
}
