{
 "cells": [
  {
   "cell_type": "markdown",
   "metadata": {
    "toc": true
   },
   "source": [
    "<h1>Table of Contents<span class=\"tocSkip\"></span></h1>\n",
    "<div class=\"toc\"><ul class=\"toc-item\"><li><span><a href=\"#Overview\" data-toc-modified-id=\"Overview-1\"><span class=\"toc-item-num\">1&nbsp;&nbsp;</span>Overview</a></span></li><li><span><a href=\"#Array-(100-marks)\" data-toc-modified-id=\"Array-(100-marks)-2\"><span class=\"toc-item-num\">2&nbsp;&nbsp;</span>Array (100 marks)</a></span><ul class=\"toc-item\"><li><span><a href=\"#Question-($\\star\\star$,-50-marks)\" data-toc-modified-id=\"Question-($\\star\\star$,-50-marks)-2.1\"><span class=\"toc-item-num\">2.1&nbsp;&nbsp;</span>Question ($\\star\\star$, 50 marks)</a></span></li><li><span><a href=\"#Question-($\\star\\star$,-50-marks)\" data-toc-modified-id=\"Question-($\\star\\star$,-50-marks)-2.2\"><span class=\"toc-item-num\">2.2&nbsp;&nbsp;</span>Question ($\\star\\star$, 50 marks)</a></span></li></ul></li></ul></div>"
   ]
  },
  {
   "cell_type": "markdown",
   "metadata": {
    "collapsed": true
   },
   "source": [
    "<b>\n",
    "\n",
    "<p>\n",
    "<center>\n",
    "<font size=\"5\">\n",
    "Homework for Algorithm Design for Data Science (DATS 6001)\n",
    "</font>\n",
    "</center>\n",
    "</p>\n",
    "\n",
    "<p>\n",
    "<center>\n",
    "<font size=\"4\">\n",
    "Homework 2: Array, Stack, and Queue\n",
    "</font>\n",
    "</center>\n",
    "</p>\n",
    "\n",
    "<p>\n",
    "<center>\n",
    "<font size=\"3\">\n",
    "Data Science, Columbian College of Arts & Sciences, George Washington University\n",
    "</font>\n",
    "</center>\n",
    "</p>\n",
    "\n",
    "<p>\n",
    "<center>\n",
    "<font size=\"3\">\n",
    "Author: Yuxiao Huang\n",
    "</font>\n",
    "</center>\n",
    "</p>\n",
    "\n",
    "</b>"
   ]
  },
  {
   "cell_type": "markdown",
   "metadata": {},
   "source": [
    "# Overview\n",
    "- For each question, complete the logic and code indicated by # Implement me\n",
    "    - the logic should summarize the main idea of your algorithm\n",
    "    - the code should\n",
    "        - be bug-free (while the output produced by your solution being the same as the provided output does not necessarily mean your code is bug-free, it is very likely that there is a bug in your code when the two kinds of output are different)\n",
    "        - satisfy the required time and space complexity\n",
    "        - be commented\n",
    "    - **marks will be deducted if the above requirements (for the logic and code) are not met**\n",
    "    - **see the complete grading rubrics in section 13 of the syllabus**\n",
    "- Submit an ipynb file named Homework_2.ipynb to [blackboard](https://blackboard.gwu.edu) folder /Assignments/Homework_2/"
   ]
  },
  {
   "cell_type": "markdown",
   "metadata": {},
   "source": [
    "# Array (100 marks)\n",
    "This section includes two questions."
   ]
  },
  {
   "cell_type": "markdown",
   "metadata": {},
   "source": [
    "## Question ($\\star\\star$, 50 marks)\n",
    "- Problem: \n",
    "    - follow up on example 3.3 in chapter 2 of lecture note\n",
    "    - find the first and second largest element in the array\n",
    "    - the solution has the complexity below\n",
    "- Complexity: \n",
    "    - $O(n)$ time\n",
    "    - $O(1)$ space\n",
    "- **Logic: # Implement me (5 marks)**\n"
   ]
  },
  {
   "cell_type": "code",
   "execution_count": 7,
   "metadata": {},
   "outputs": [],
   "source": [
    "# Implementation\n",
    "def fun_21(arr):\n",
    "    \"\"\"\n",
    "    Find the first and second largest element in the array\n",
    "    You may assume the array has at least two unique elements\n",
    "    \n",
    "    Parameters\n",
    "    ----------\n",
    "    arr : a list of integers\n",
    "    \n",
    "    Returns\n",
    "    ----------\n",
    "    [the first largest element, the second largest element] : a list of two integers\n",
    "    \"\"\"\n",
    "    \n",
    "    # Implement me (45 marks)\n",
    "    # Here the array is not empty (as suggested in the docstring), \n",
    "    # assign the first element to max_\n",
    "    # assign the second element to min_\n",
    "    \n",
    "    max_ = arr[0]\n",
    "    min_ = arr[0]\n",
    "    \n",
    "    # Loop over each remaining element in the array\n",
    "    for i in range(1, len(arr)):\n",
    "        if max_ < arr[i]:\n",
    "            min_ = max_\n",
    "            # Update max_\n",
    "            max_ = arr[i]\n",
    "\n",
    "        elif min_ < arr[i]:\n",
    "            # Update min_\n",
    "            min_ = arr[i]\n",
    "\n",
    "    return (max_, min_)"
   ]
  },
  {
   "cell_type": "code",
   "execution_count": 8,
   "metadata": {
    "scrolled": true
   },
   "outputs": [
    {
     "name": "stdout",
     "output_type": "stream",
     "text": [
      "(3, 2)\n",
      "(3, 3)\n",
      "(5, 3)\n",
      "(20, 11)\n"
     ]
    }
   ],
   "source": [
    "# Test\n",
    "arr_1 = [2, 3]\n",
    "arr_2 = [3, 2, 3]\n",
    "arr_3 = [2, 3, 5, -4]\n",
    "arr_4 = [2, 3, 5, -4, 9, 10, 20, 11]\n",
    "\n",
    "print(fun_21(arr_1))\n",
    "print(fun_21(arr_2))\n",
    "print(fun_21(arr_3))\n",
    "print(fun_21(arr_4))"
   ]
  },
  {
   "cell_type": "markdown",
   "metadata": {},
   "source": [
    "## Question ($\\star\\star$, 50 marks)\n",
    "- Problem: \n",
    "    - follow up on exercise 3.13 in chapter 2 of lecture note\n",
    "    - the only difference is, here\n",
    "        - you may not assume there is exactly one subarray (that has the largest sum)\n",
    "    - the solution has the complexity below\n",
    "- Complexity: \n",
    "    - $O(n^2)$ time\n",
    "    - $O(n^2)$ space\n",
    "- **Logic: # Implement me (5 marks)**\n"
   ]
  },
  {
   "cell_type": "code",
   "execution_count": 5,
   "metadata": {},
   "outputs": [],
   "source": [
    "# Implementation\n",
    "def fun_22(arr):\n",
    "    \"\"\"\n",
    "    Find the largest sum across all the contiguous (non-empty) subarrays of the input array\n",
    "    You may assume the input array is not empty\n",
    "    You may not assume there is exactly one subarray (that has the largest sum)\n",
    "    \n",
    "    Parameters\n",
    "    ----------\n",
    "    arr : a list of integers\n",
    "    \n",
    "    Returns\n",
    "    ----------\n",
    "    [the largest sum, \n",
    "    the list of all the possible [index of the first element, index of the last element]]\n",
    "    : a list of two items, where the first item is an integer and the second item is a list of list\n",
    "    \"\"\"\n",
    "    \n",
    "    # Implement me (45 marks)\n",
    "    # The largest sum\n",
    "    max_sum = None\n",
    "    \n",
    "    # Index of the Elements\n",
    "    possible_indexes = []\n",
    "    \n",
    "    # For each possible start of the subarray\n",
    "    for i in range(len(arr)):\n",
    "        \n",
    "        # The sum of the subarray (starting with i)\n",
    "        sum_ = 0\n",
    "        # For each possible end of the subarray\n",
    "        for j in range(i, len(arr)):\n",
    "            # The sum of the subarray (ending with j)\n",
    "            sum_ += arr[j]\n",
    "            if max_sum is None or max_sum < sum_:\n",
    "                # Update max_sum\n",
    "                max_sum = sum_\n",
    "                # clearing the previous indexes\n",
    "                possible_indexes.clear()\n",
    "                # Appending the indexes\n",
    "                possible_indexes.append([i, j])\n",
    "            elif max_sum == sum_:\n",
    "                possible_indexes.append([i, j])\n",
    "                \n",
    "    return [max_sum, possible_indexes]"
   ]
  },
  {
   "cell_type": "code",
   "execution_count": 6,
   "metadata": {
    "scrolled": false
   },
   "outputs": [
    {
     "name": "stdout",
     "output_type": "stream",
     "text": [
      "[2, [[0, 0]]]\n",
      "[3, [[1, 1]]]\n",
      "[5, [[1, 3]]]\n",
      "[5, [[1, 3], [7, 7]]]\n"
     ]
    }
   ],
   "source": [
    "# Test\n",
    "arr_1 = [2]\n",
    "arr_2 = [-2, 3]\n",
    "arr_3 = [-2, 3, -2, 4, -1, -2]\n",
    "arr_4 = [-2, 3, -2, 4, -1, -2, -10, 5]\n",
    "\n",
    "print(fun_22(arr_1))\n",
    "print(fun_22(arr_2))\n",
    "print(fun_22(arr_3))\n",
    "print(fun_22(arr_4))"
   ]
  }
 ],
 "metadata": {
  "kernelspec": {
   "display_name": "Python 3",
   "language": "python",
   "name": "python3"
  },
  "language_info": {
   "codemirror_mode": {
    "name": "ipython",
    "version": 3
   },
   "file_extension": ".py",
   "mimetype": "text/x-python",
   "name": "python",
   "nbconvert_exporter": "python",
   "pygments_lexer": "ipython3",
   "version": "3.7.4"
  },
  "toc": {
   "base_numbering": 1,
   "nav_menu": {},
   "number_sections": true,
   "sideBar": true,
   "skip_h1_title": false,
   "title_cell": "Table of Contents",
   "title_sidebar": "Contents",
   "toc_cell": true,
   "toc_position": {},
   "toc_section_display": true,
   "toc_window_display": false
  }
 },
 "nbformat": 4,
 "nbformat_minor": 2
}
